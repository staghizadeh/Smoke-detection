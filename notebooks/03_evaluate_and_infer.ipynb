{
  "cells": [
    {
      "cell_type": "markdown",
      "metadata": {},
      "source": "# 03 \u2014 Evaluate & Inference on Unseen Images"
    },
    {
      "cell_type": "code",
      "metadata": {},
      "execution_count": null,
      "outputs": [],
      "source": "# If needed:\n# !pip install -q ultralytics opencv-python matplotlib\n\nimport os, glob\nimport matplotlib.pyplot as plt\nfrom ultralytics import YOLO\n\n# 1) Point to your trained weights\nweights = 'runs/detect/train/weights/best.pt'  # adjust if different\nmodel = YOLO(weights)\n\n# 2) Evaluate on the validation set (as defined in data.yaml)\nmetrics = model.val(data='data/data.yaml', imgsz=640)\nprint(metrics)  # mAP50-95, precision, recall, etc.\n\n# 3) Predict on UNSEEN images (put your own images under sample_images/unseen/)\nsrc = 'sample_images/unseen'\nos.makedirs('outputs/unseen_preds', exist_ok=True)\npred = model.predict(source=src, imgsz=640, conf=0.25, save=True, project='outputs/unseen_preds', name='preds', exist_ok=True)\n\n# 4) Visualize a couple of prediction images (requires saved images)\npred_dir = 'outputs/unseen_preds/preds'\nimgs = sorted(glob.glob(os.path.join(pred_dir, '*.jpg')) + glob.glob(os.path.join(pred_dir, '*.png')))\nfor im in imgs[:4]:\n    plt.figure(figsize=(6,6))\n    plt.imshow(plt.imread(im))\n    plt.axis('off')\n    plt.title(os.path.basename(im))\n    plt.show()"
    }
  ],
  "nbformat": 4,
  "nbformat_minor": 5,
  "metadata": {
    "kernelspec": {
      "display_name": "Python 3",
      "language": "python",
      "name": "python3"
    },
    "language_info": {
      "name": "python",
      "version": "3.x"
    }
  }
}