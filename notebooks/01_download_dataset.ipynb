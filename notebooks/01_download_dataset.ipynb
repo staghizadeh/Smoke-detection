{
  "cells": [
    {
      "cell_type": "markdown",
      "metadata": {},
      "source": "# 01 \u2014 Download a Public Smoke Dataset\n\nChoose one path below (Roboflow, Kaggle, DFS/D-Fire/Boreal)."
    },
    {
      "cell_type": "markdown",
      "metadata": {},
      "source": "## Setup & installs"
    },
    {
      "cell_type": "code",
      "metadata": {},
      "execution_count": null,
      "outputs": [],
      "source": "# If needed, install dependencies here\n# !pip install -q ultralytics roboflow kaggle opencv-python lxml PyYAML tqdm\nimport os, pathlib, yaml, json"
    },
    {
      "cell_type": "markdown",
      "metadata": {},
      "source": "## Option A) Roboflow (YOLO-ready)\n- Get an API key: https://docs.roboflow.com/api-reference/authentication\n- Set workspace/project/version."
    },
    {
      "cell_type": "code",
      "metadata": {},
      "execution_count": null,
      "outputs": [],
      "source": "# Set your API key in the environment (restart kernel after setting if needed)\n# os.environ['ROBOFLOW_API_KEY'] = 'YOUR_KEY'\n\n# Then download using the helper script in src/\n# Example for Wildfire Smoke dataset (workspace='public-datasets', project='wildfire-smoke', version=1)\n# !python src/download_roboflow.py --workspace public-datasets --project wildfire-smoke --version 1 --out data/datasets/roboflow_smoke"
    },
    {
      "cell_type": "markdown",
      "metadata": {},
      "source": "## Option B) Kaggle (YOLO datasets)\n- Add `~/.kaggle/kaggle.json` or set `KAGGLE_USERNAME` and `KAGGLE_KEY`.\n- Pick a dataset slug (examples: 'ahemateja19bec1025/wildfiresmokedatasetyolo' or 'sayedgamal99/smoke-fire-detection-yolo')."
    },
    {
      "cell_type": "code",
      "metadata": {},
      "execution_count": null,
      "outputs": [],
      "source": "# Example Kaggle download\n# !python scripts/kaggle_download.py --dataset ahemateja19bec1025/wildfiresmokedatasetyolo --out data/datasets/kaggle_smoke"
    },
    {
      "cell_type": "markdown",
      "metadata": {},
      "source": "## Option C) DFS / D-Fire / Boreal\nFor DFS (VOC) download XMLs+images, then convert to YOLO using the converter below."
    },
    {
      "cell_type": "code",
      "metadata": {},
      "execution_count": null,
      "outputs": [],
      "source": "# Convert Pascal VOC -> YOLO .txt (adjust paths)\n# !python src/convert_voc2yolo.py --xml_dir data/datasets/DFS/Annotations --out_dir data/datasets/DFS/labels --classes smoke,fire,other"
    },
    {
      "cell_type": "markdown",
      "metadata": {},
      "source": "## Write `data.yaml`\nSet your dataset root (`path`) and classes:"
    },
    {
      "cell_type": "code",
      "metadata": {},
      "execution_count": null,
      "outputs": [],
      "source": "from pathlib import Path\ndata = {\n    'path': 'data/datasets/roboflow_smoke',  # change to your dataset root\n    'train': 'images/train',\n    'val': 'images/valid',\n    'test': 'images/test',  # optional\n    'nc': 1,\n    'names': ['smoke'],\n}\nPath('data').mkdir(exist_ok=True)\nwith open('data/data.yaml', 'w') as f:\n    import yaml\n    yaml.safe_dump(data, f, sort_keys=False)\nprint('Wrote data/data.yaml\\n', yaml.safe_dump(data, sort_keys=False))"
    }
  ],
  "nbformat": 4,
  "nbformat_minor": 5,
  "metadata": {
    "kernelspec": {
      "display_name": "Python 3",
      "language": "python",
      "name": "python3"
    },
    "language_info": {
      "name": "python",
      "version": "3.x"
    }
  }
}