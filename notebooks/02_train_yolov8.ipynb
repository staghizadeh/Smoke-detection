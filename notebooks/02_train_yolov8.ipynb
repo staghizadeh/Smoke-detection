{
  "cells": [
    {
      "cell_type": "markdown",
      "metadata": {},
      "source": "# 02 \u2014 Train YOLOv8 for Smoke Detection"
    },
    {
      "cell_type": "code",
      "metadata": {},
      "execution_count": null,
      "outputs": [],
      "source": "# If needed:\n# !pip install -q ultralytics\n\nfrom ultralytics import YOLO\n\n# Hyperparameters\nmodel_name = 'yolov8n.pt'   # try 'yolov8s.pt' for higher accuracy\ndata_yaml  = 'data/data.yaml'\nepochs     = 100\nimgsz      = 640\nbatch      = 16\n\nmodel = YOLO(model_name)\nresults = model.train(data=data_yaml, epochs=epochs, imgsz=imgsz, batch=batch)\n\nprint(\"Training complete. Best weights at:\", results.save_dir + \"/weights/best.pt\")"
    }
  ],
  "nbformat": 4,
  "nbformat_minor": 5,
  "metadata": {
    "kernelspec": {
      "display_name": "Python 3",
      "language": "python",
      "name": "python3"
    },
    "language_info": {
      "name": "python",
      "version": "3.x"
    }
  }
}